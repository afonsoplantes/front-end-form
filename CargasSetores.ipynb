{
  "nbformat": 4,
  "nbformat_minor": 0,
  "metadata": {
    "colab": {
      "name": "CargasSetores.ipynb",
      "provenance": [],
      "collapsed_sections": [],
      "authorship_tag": "ABX9TyMBsFRRBJ82eeH8P6+iiIjG",
      "include_colab_link": true
    },
    "kernelspec": {
      "name": "python3",
      "display_name": "Python 3"
    },
    "language_info": {
      "name": "python"
    }
  },
  "cells": [
    {
      "cell_type": "markdown",
      "metadata": {
        "id": "view-in-github",
        "colab_type": "text"
      },
      "source": [
        "<a href=\"https://colab.research.google.com/github/afonsoplantes/front-end-form/blob/master/CargasSetores.ipynb\" target=\"_parent\"><img src=\"https://colab.research.google.com/assets/colab-badge.svg\" alt=\"Open In Colab\"/></a>"
      ]
    },
    {
      "cell_type": "code",
      "metadata": {
        "colab": {
          "base_uri": "https://localhost:8080/"
        },
        "id": "tXwjvD19hNaN",
        "outputId": "4197a326-c8bb-4735-f625-812e5f1260a6"
      },
      "source": [
        "!pip install --upgrade gspread"
      ],
      "execution_count": 1,
      "outputs": [
        {
          "output_type": "stream",
          "name": "stdout",
          "text": [
            "Requirement already satisfied: gspread in /usr/local/lib/python3.7/dist-packages (4.0.1)\n",
            "Requirement already satisfied: google-auth>=1.12.0 in /usr/local/lib/python3.7/dist-packages (from gspread) (1.35.0)\n",
            "Requirement already satisfied: google-auth-oauthlib>=0.4.1 in /usr/local/lib/python3.7/dist-packages (from gspread) (0.4.6)\n",
            "Requirement already satisfied: cachetools<5.0,>=2.0.0 in /usr/local/lib/python3.7/dist-packages (from google-auth>=1.12.0->gspread) (4.2.4)\n",
            "Requirement already satisfied: six>=1.9.0 in /usr/local/lib/python3.7/dist-packages (from google-auth>=1.12.0->gspread) (1.15.0)\n",
            "Requirement already satisfied: rsa<5,>=3.1.4 in /usr/local/lib/python3.7/dist-packages (from google-auth>=1.12.0->gspread) (4.7.2)\n",
            "Requirement already satisfied: pyasn1-modules>=0.2.1 in /usr/local/lib/python3.7/dist-packages (from google-auth>=1.12.0->gspread) (0.2.8)\n",
            "Requirement already satisfied: setuptools>=40.3.0 in /usr/local/lib/python3.7/dist-packages (from google-auth>=1.12.0->gspread) (57.4.0)\n",
            "Requirement already satisfied: requests-oauthlib>=0.7.0 in /usr/local/lib/python3.7/dist-packages (from google-auth-oauthlib>=0.4.1->gspread) (1.3.0)\n",
            "Requirement already satisfied: pyasn1<0.5.0,>=0.4.6 in /usr/local/lib/python3.7/dist-packages (from pyasn1-modules>=0.2.1->google-auth>=1.12.0->gspread) (0.4.8)\n",
            "Requirement already satisfied: requests>=2.0.0 in /usr/local/lib/python3.7/dist-packages (from requests-oauthlib>=0.7.0->google-auth-oauthlib>=0.4.1->gspread) (2.23.0)\n",
            "Requirement already satisfied: oauthlib>=3.0.0 in /usr/local/lib/python3.7/dist-packages (from requests-oauthlib>=0.7.0->google-auth-oauthlib>=0.4.1->gspread) (3.1.1)\n",
            "Requirement already satisfied: idna<3,>=2.5 in /usr/local/lib/python3.7/dist-packages (from requests>=2.0.0->requests-oauthlib>=0.7.0->google-auth-oauthlib>=0.4.1->gspread) (2.10)\n",
            "Requirement already satisfied: urllib3!=1.25.0,!=1.25.1,<1.26,>=1.21.1 in /usr/local/lib/python3.7/dist-packages (from requests>=2.0.0->requests-oauthlib>=0.7.0->google-auth-oauthlib>=0.4.1->gspread) (1.24.3)\n",
            "Requirement already satisfied: chardet<4,>=3.0.2 in /usr/local/lib/python3.7/dist-packages (from requests>=2.0.0->requests-oauthlib>=0.7.0->google-auth-oauthlib>=0.4.1->gspread) (3.0.4)\n",
            "Requirement already satisfied: certifi>=2017.4.17 in /usr/local/lib/python3.7/dist-packages (from requests>=2.0.0->requests-oauthlib>=0.7.0->google-auth-oauthlib>=0.4.1->gspread) (2021.5.30)\n"
          ]
        }
      ]
    },
    {
      "cell_type": "code",
      "metadata": {
        "id": "d-WsuTDeidzf"
      },
      "source": [
        "# Insere as credenciais para abrir o datagrame\n",
        "from google.colab import auth\n",
        "auth.authenticate_user()\n",
        "\n",
        "import gspread\n",
        "from oauth2client.client import GoogleCredentials\n",
        "\n",
        "gc = gspread.authorize(GoogleCredentials.get_application_default())"
      ],
      "execution_count": 2,
      "outputs": []
    },
    {
      "cell_type": "code",
      "metadata": {
        "id": "3yIWB2pakxEE"
      },
      "source": [
        "import pandas as pd\n",
        "import numpy as np\n",
        "\n",
        "%precision %.2f\n",
        "pd.options.display.float_format = '{:,.2f}'.format\n",
        "\n",
        "def stringSearchColumn_DataFrame(df, colName, regex):\n",
        "    newdf = pd.DataFrame()\n",
        "    for idx, record in df[colName].iteritems():\n",
        "\n",
        "        if re.search(regex, record):\n",
        "            newdf = concat([df[df[colName] == record], newdf], ignore_index=True)\n",
        "\n",
        "    return newdf"
      ],
      "execution_count": 3,
      "outputs": []
    },
    {
      "cell_type": "code",
      "metadata": {
        "id": "U4vuQioHkcgP"
      },
      "source": [
        "# Abre a planilha do google\n",
        "sh = gc.open('CargasSetores')\n",
        "page = sh.sheet1\n",
        "rows = page.get_all_records()\n",
        "# print(rows)"
      ],
      "execution_count": 4,
      "outputs": []
    },
    {
      "cell_type": "code",
      "metadata": {
        "id": "esPwvph0lGe8",
        "colab": {
          "base_uri": "https://localhost:8080/",
          "height": 276
        },
        "outputId": "2a5ca1cf-c80b-4438-a67e-fd92f0ca0925"
      },
      "source": [
        "cargasSetores=pd.DataFrame.from_records(rows)\n",
        "cargasSetores.head()"
      ],
      "execution_count": 5,
      "outputs": [
        {
          "output_type": "execute_result",
          "data": {
            "text/html": [
              "<div>\n",
              "<style scoped>\n",
              "    .dataframe tbody tr th:only-of-type {\n",
              "        vertical-align: middle;\n",
              "    }\n",
              "\n",
              "    .dataframe tbody tr th {\n",
              "        vertical-align: top;\n",
              "    }\n",
              "\n",
              "    .dataframe thead th {\n",
              "        text-align: right;\n",
              "    }\n",
              "</style>\n",
              "<table border=\"1\" class=\"dataframe\">\n",
              "  <thead>\n",
              "    <tr style=\"text-align: right;\">\n",
              "      <th></th>\n",
              "      <th>setor</th>\n",
              "      <th>painel</th>\n",
              "      <th>tensao</th>\n",
              "      <th>tag</th>\n",
              "      <th>instalacao</th>\n",
              "      <th>remocao</th>\n",
              "      <th>marca</th>\n",
              "      <th>descricao</th>\n",
              "      <th>modelo</th>\n",
              "      <th>cv</th>\n",
              "      <th>kw</th>\n",
              "      <th>fp</th>\n",
              "      <th>amperes</th>\n",
              "      <th>rpm</th>\n",
              "      <th>kva</th>\n",
              "      <th>acionamento</th>\n",
              "    </tr>\n",
              "  </thead>\n",
              "  <tbody>\n",
              "    <tr>\n",
              "      <th>0</th>\n",
              "      <td>industria</td>\n",
              "      <td></td>\n",
              "      <td>380</td>\n",
              "      <td></td>\n",
              "      <td>2018</td>\n",
              "      <td></td>\n",
              "      <td>weg</td>\n",
              "      <td>MOINHO 1</td>\n",
              "      <td>280S/M</td>\n",
              "      <td>125.00</td>\n",
              "      <td>90.00</td>\n",
              "      <td>0.90</td>\n",
              "      <td>164.00</td>\n",
              "      <td>3575</td>\n",
              "      <td>107.94</td>\n",
              "      <td>soft-starter</td>\n",
              "    </tr>\n",
              "    <tr>\n",
              "      <th>1</th>\n",
              "      <td>industria</td>\n",
              "      <td></td>\n",
              "      <td>380</td>\n",
              "      <td></td>\n",
              "      <td>2018</td>\n",
              "      <td></td>\n",
              "      <td>weg</td>\n",
              "      <td>MOINHO 2</td>\n",
              "      <td>280S/M</td>\n",
              "      <td>125.00</td>\n",
              "      <td>90.00</td>\n",
              "      <td>0.90</td>\n",
              "      <td>164.00</td>\n",
              "      <td>3575</td>\n",
              "      <td>107.94</td>\n",
              "      <td>soft-starter</td>\n",
              "    </tr>\n",
              "    <tr>\n",
              "      <th>2</th>\n",
              "      <td>industria</td>\n",
              "      <td></td>\n",
              "      <td>380</td>\n",
              "      <td></td>\n",
              "      <td>2018</td>\n",
              "      <td></td>\n",
              "      <td>weg</td>\n",
              "      <td>ALIMENTADOR 1</td>\n",
              "      <td>71</td>\n",
              "      <td>0.50</td>\n",
              "      <td>0.40</td>\n",
              "      <td>0.80</td>\n",
              "      <td>1.10</td>\n",
              "      <td>1670</td>\n",
              "      <td>0.70</td>\n",
              "      <td>inversorES</td>\n",
              "    </tr>\n",
              "    <tr>\n",
              "      <th>3</th>\n",
              "      <td>industria</td>\n",
              "      <td></td>\n",
              "      <td>380</td>\n",
              "      <td></td>\n",
              "      <td>2018</td>\n",
              "      <td></td>\n",
              "      <td>weg</td>\n",
              "      <td>ALIMENTADOR 2</td>\n",
              "      <td>71</td>\n",
              "      <td>0.50</td>\n",
              "      <td>0.40</td>\n",
              "      <td>0.80</td>\n",
              "      <td>1.10</td>\n",
              "      <td>1670</td>\n",
              "      <td>0.70</td>\n",
              "      <td>inversorES</td>\n",
              "    </tr>\n",
              "    <tr>\n",
              "      <th>4</th>\n",
              "      <td>industria</td>\n",
              "      <td></td>\n",
              "      <td>380</td>\n",
              "      <td></td>\n",
              "      <td>2018</td>\n",
              "      <td></td>\n",
              "      <td>Metalplan</td>\n",
              "      <td>COMPRESSOR 1</td>\n",
              "      <td>TP 50hp</td>\n",
              "      <td>50.00</td>\n",
              "      <td>37.30</td>\n",
              "      <td>0.80</td>\n",
              "      <td>70.30</td>\n",
              "      <td>3560</td>\n",
              "      <td>46.27</td>\n",
              "      <td>ESTRELA /TRIANGUL</td>\n",
              "    </tr>\n",
              "  </tbody>\n",
              "</table>\n",
              "</div>"
            ],
            "text/plain": [
              "       setor painel  tensao tag  ... amperes   rpm    kva        acionamento\n",
              "0  industria            380      ...  164.00  3575 107.94       soft-starter\n",
              "1  industria            380      ...  164.00  3575 107.94       soft-starter\n",
              "2  industria            380      ...    1.10  1670   0.70         inversorES\n",
              "3  industria            380      ...    1.10  1670   0.70         inversorES\n",
              "4  industria            380      ...   70.30  3560  46.27  ESTRELA /TRIANGUL\n",
              "\n",
              "[5 rows x 16 columns]"
            ]
          },
          "metadata": {},
          "execution_count": 5
        }
      ]
    },
    {
      "cell_type": "markdown",
      "metadata": {
        "id": "HYfKbJGqf8Yu"
      },
      "source": [
        "## INFORMAÇÕES DO BANCO DE DADOS"
      ]
    },
    {
      "cell_type": "code",
      "metadata": {
        "colab": {
          "base_uri": "https://localhost:8080/"
        },
        "id": "h2w-p4SlwL-A",
        "outputId": "a69c1a2a-643e-493c-8029-7d103ea4e343"
      },
      "source": [
        "df = cargasSetores\n",
        "\n",
        "print('Os setores unicos da usina são', df['setor'].unique())\n",
        "print(\"Temos num total de \" + str(len(df['setor'].unique())) + ' setores')"
      ],
      "execution_count": 6,
      "outputs": [
        {
          "output_type": "stream",
          "name": "stdout",
          "text": [
            "Os setores unicos da usina são ['industria' 'fermentacao' 'destilaria' 'secador' 'evaporacao'\n",
            " 'caldeira02']\n",
            "Temos num total de 6 setores\n"
          ]
        }
      ]
    },
    {
      "cell_type": "code",
      "metadata": {
        "id": "OP3wTsowvbEX"
      },
      "source": [
        ""
      ],
      "execution_count": null,
      "outputs": []
    },
    {
      "cell_type": "code",
      "metadata": {
        "colab": {
          "base_uri": "https://localhost:8080/",
          "height": 276
        },
        "id": "IpT5XfuyiB2S",
        "outputId": "35e0ee90-a900-417a-9add-a83959fb9044"
      },
      "source": [
        "df[df['setor'] == \"industria\"].head()"
      ],
      "execution_count": 7,
      "outputs": [
        {
          "output_type": "execute_result",
          "data": {
            "text/html": [
              "<div>\n",
              "<style scoped>\n",
              "    .dataframe tbody tr th:only-of-type {\n",
              "        vertical-align: middle;\n",
              "    }\n",
              "\n",
              "    .dataframe tbody tr th {\n",
              "        vertical-align: top;\n",
              "    }\n",
              "\n",
              "    .dataframe thead th {\n",
              "        text-align: right;\n",
              "    }\n",
              "</style>\n",
              "<table border=\"1\" class=\"dataframe\">\n",
              "  <thead>\n",
              "    <tr style=\"text-align: right;\">\n",
              "      <th></th>\n",
              "      <th>setor</th>\n",
              "      <th>painel</th>\n",
              "      <th>tensao</th>\n",
              "      <th>tag</th>\n",
              "      <th>instalacao</th>\n",
              "      <th>remocao</th>\n",
              "      <th>marca</th>\n",
              "      <th>descricao</th>\n",
              "      <th>modelo</th>\n",
              "      <th>cv</th>\n",
              "      <th>kw</th>\n",
              "      <th>fp</th>\n",
              "      <th>amperes</th>\n",
              "      <th>rpm</th>\n",
              "      <th>kva</th>\n",
              "      <th>acionamento</th>\n",
              "    </tr>\n",
              "  </thead>\n",
              "  <tbody>\n",
              "    <tr>\n",
              "      <th>0</th>\n",
              "      <td>industria</td>\n",
              "      <td></td>\n",
              "      <td>380</td>\n",
              "      <td></td>\n",
              "      <td>2018</td>\n",
              "      <td></td>\n",
              "      <td>weg</td>\n",
              "      <td>MOINHO 1</td>\n",
              "      <td>280S/M</td>\n",
              "      <td>125.00</td>\n",
              "      <td>90.00</td>\n",
              "      <td>0.90</td>\n",
              "      <td>164.00</td>\n",
              "      <td>3575</td>\n",
              "      <td>107.94</td>\n",
              "      <td>soft-starter</td>\n",
              "    </tr>\n",
              "    <tr>\n",
              "      <th>1</th>\n",
              "      <td>industria</td>\n",
              "      <td></td>\n",
              "      <td>380</td>\n",
              "      <td></td>\n",
              "      <td>2018</td>\n",
              "      <td></td>\n",
              "      <td>weg</td>\n",
              "      <td>MOINHO 2</td>\n",
              "      <td>280S/M</td>\n",
              "      <td>125.00</td>\n",
              "      <td>90.00</td>\n",
              "      <td>0.90</td>\n",
              "      <td>164.00</td>\n",
              "      <td>3575</td>\n",
              "      <td>107.94</td>\n",
              "      <td>soft-starter</td>\n",
              "    </tr>\n",
              "    <tr>\n",
              "      <th>2</th>\n",
              "      <td>industria</td>\n",
              "      <td></td>\n",
              "      <td>380</td>\n",
              "      <td></td>\n",
              "      <td>2018</td>\n",
              "      <td></td>\n",
              "      <td>weg</td>\n",
              "      <td>ALIMENTADOR 1</td>\n",
              "      <td>71</td>\n",
              "      <td>0.50</td>\n",
              "      <td>0.40</td>\n",
              "      <td>0.80</td>\n",
              "      <td>1.10</td>\n",
              "      <td>1670</td>\n",
              "      <td>0.70</td>\n",
              "      <td>inversorES</td>\n",
              "    </tr>\n",
              "    <tr>\n",
              "      <th>3</th>\n",
              "      <td>industria</td>\n",
              "      <td></td>\n",
              "      <td>380</td>\n",
              "      <td></td>\n",
              "      <td>2018</td>\n",
              "      <td></td>\n",
              "      <td>weg</td>\n",
              "      <td>ALIMENTADOR 2</td>\n",
              "      <td>71</td>\n",
              "      <td>0.50</td>\n",
              "      <td>0.40</td>\n",
              "      <td>0.80</td>\n",
              "      <td>1.10</td>\n",
              "      <td>1670</td>\n",
              "      <td>0.70</td>\n",
              "      <td>inversorES</td>\n",
              "    </tr>\n",
              "    <tr>\n",
              "      <th>4</th>\n",
              "      <td>industria</td>\n",
              "      <td></td>\n",
              "      <td>380</td>\n",
              "      <td></td>\n",
              "      <td>2018</td>\n",
              "      <td></td>\n",
              "      <td>Metalplan</td>\n",
              "      <td>COMPRESSOR 1</td>\n",
              "      <td>TP 50hp</td>\n",
              "      <td>50.00</td>\n",
              "      <td>37.30</td>\n",
              "      <td>0.80</td>\n",
              "      <td>70.30</td>\n",
              "      <td>3560</td>\n",
              "      <td>46.27</td>\n",
              "      <td>ESTRELA /TRIANGUL</td>\n",
              "    </tr>\n",
              "  </tbody>\n",
              "</table>\n",
              "</div>"
            ],
            "text/plain": [
              "       setor painel  tensao tag  ... amperes   rpm    kva        acionamento\n",
              "0  industria            380      ...  164.00  3575 107.94       soft-starter\n",
              "1  industria            380      ...  164.00  3575 107.94       soft-starter\n",
              "2  industria            380      ...    1.10  1670   0.70         inversorES\n",
              "3  industria            380      ...    1.10  1670   0.70         inversorES\n",
              "4  industria            380      ...   70.30  3560  46.27  ESTRELA /TRIANGUL\n",
              "\n",
              "[5 rows x 16 columns]"
            ]
          },
          "metadata": {},
          "execution_count": 7
        }
      ]
    },
    {
      "cell_type": "markdown",
      "metadata": {
        "id": "EEgUmNi3ktbo"
      },
      "source": [
        "### DESCRIÇÃO GERAL"
      ]
    },
    {
      "cell_type": "code",
      "metadata": {
        "colab": {
          "base_uri": "https://localhost:8080/",
          "height": 318
        },
        "id": "y2oz_1Hbks_f",
        "outputId": "2b13d35b-d54e-4b62-e218-eb3d4e7af5cd"
      },
      "source": [
        "cargasSetores.describe()"
      ],
      "execution_count": 8,
      "outputs": [
        {
          "output_type": "execute_result",
          "data": {
            "text/html": [
              "<div>\n",
              "<style scoped>\n",
              "    .dataframe tbody tr th:only-of-type {\n",
              "        vertical-align: middle;\n",
              "    }\n",
              "\n",
              "    .dataframe tbody tr th {\n",
              "        vertical-align: top;\n",
              "    }\n",
              "\n",
              "    .dataframe thead th {\n",
              "        text-align: right;\n",
              "    }\n",
              "</style>\n",
              "<table border=\"1\" class=\"dataframe\">\n",
              "  <thead>\n",
              "    <tr style=\"text-align: right;\">\n",
              "      <th></th>\n",
              "      <th>tensao</th>\n",
              "      <th>cv</th>\n",
              "      <th>kw</th>\n",
              "      <th>fp</th>\n",
              "      <th>amperes</th>\n",
              "      <th>rpm</th>\n",
              "      <th>kva</th>\n",
              "    </tr>\n",
              "  </thead>\n",
              "  <tbody>\n",
              "    <tr>\n",
              "      <th>count</th>\n",
              "      <td>215.00</td>\n",
              "      <td>215.00</td>\n",
              "      <td>215.00</td>\n",
              "      <td>215.00</td>\n",
              "      <td>215.00</td>\n",
              "      <td>215.00</td>\n",
              "      <td>215.00</td>\n",
              "    </tr>\n",
              "    <tr>\n",
              "      <th>mean</th>\n",
              "      <td>387.53</td>\n",
              "      <td>21.29</td>\n",
              "      <td>15.84</td>\n",
              "      <td>0.85</td>\n",
              "      <td>29.35</td>\n",
              "      <td>1,626.56</td>\n",
              "      <td>19.74</td>\n",
              "    </tr>\n",
              "    <tr>\n",
              "      <th>std</th>\n",
              "      <td>43.33</td>\n",
              "      <td>40.29</td>\n",
              "      <td>29.82</td>\n",
              "      <td>0.05</td>\n",
              "      <td>52.06</td>\n",
              "      <td>954.88</td>\n",
              "      <td>35.82</td>\n",
              "    </tr>\n",
              "    <tr>\n",
              "      <th>min</th>\n",
              "      <td>220.00</td>\n",
              "      <td>0.30</td>\n",
              "      <td>0.20</td>\n",
              "      <td>0.70</td>\n",
              "      <td>0.30</td>\n",
              "      <td>0.00</td>\n",
              "      <td>0.22</td>\n",
              "    </tr>\n",
              "    <tr>\n",
              "      <th>25%</th>\n",
              "      <td>380.00</td>\n",
              "      <td>3.00</td>\n",
              "      <td>2.20</td>\n",
              "      <td>0.80</td>\n",
              "      <td>3.60</td>\n",
              "      <td>1,725.00</td>\n",
              "      <td>2.64</td>\n",
              "    </tr>\n",
              "    <tr>\n",
              "      <th>50%</th>\n",
              "      <td>380.00</td>\n",
              "      <td>7.50</td>\n",
              "      <td>5.50</td>\n",
              "      <td>0.90</td>\n",
              "      <td>10.00</td>\n",
              "      <td>1,760.00</td>\n",
              "      <td>6.57</td>\n",
              "    </tr>\n",
              "    <tr>\n",
              "      <th>75%</th>\n",
              "      <td>380.00</td>\n",
              "      <td>21.00</td>\n",
              "      <td>16.75</td>\n",
              "      <td>0.90</td>\n",
              "      <td>30.50</td>\n",
              "      <td>1,780.00</td>\n",
              "      <td>21.05</td>\n",
              "    </tr>\n",
              "    <tr>\n",
              "      <th>max</th>\n",
              "      <td>440.00</td>\n",
              "      <td>300.00</td>\n",
              "      <td>223.70</td>\n",
              "      <td>0.90</td>\n",
              "      <td>346.80</td>\n",
              "      <td>3,600.00</td>\n",
              "      <td>264.31</td>\n",
              "    </tr>\n",
              "  </tbody>\n",
              "</table>\n",
              "</div>"
            ],
            "text/plain": [
              "       tensao     cv     kw     fp  amperes      rpm    kva\n",
              "count  215.00 215.00 215.00 215.00   215.00   215.00 215.00\n",
              "mean   387.53  21.29  15.84   0.85    29.35 1,626.56  19.74\n",
              "std     43.33  40.29  29.82   0.05    52.06   954.88  35.82\n",
              "min    220.00   0.30   0.20   0.70     0.30     0.00   0.22\n",
              "25%    380.00   3.00   2.20   0.80     3.60 1,725.00   2.64\n",
              "50%    380.00   7.50   5.50   0.90    10.00 1,760.00   6.57\n",
              "75%    380.00  21.00  16.75   0.90    30.50 1,780.00  21.05\n",
              "max    440.00 300.00 223.70   0.90   346.80 3,600.00 264.31"
            ]
          },
          "metadata": {},
          "execution_count": 8
        }
      ]
    },
    {
      "cell_type": "markdown",
      "metadata": {
        "id": "UQi_9bhnhFN3"
      },
      "source": [
        "## Separando as cargas por setor"
      ]
    },
    {
      "cell_type": "code",
      "metadata": {
        "id": "0vGBkcPhX4sI"
      },
      "source": [
        "industria = df[df['setor'] == \"industria\"]\n",
        "fermentacao = df[df['setor'] == \"fermentacao\"]\n",
        "destilaria = df[df['setor'] == \"destilaria\"]\n",
        "secador = df[df['setor'] == \"secador\"]\n",
        "evaporacao = df[df['setor'] == \"evaporacao\"]\n",
        "caldeira02 = df[df['setor'] == \"caldeira02\"]"
      ],
      "execution_count": 9,
      "outputs": []
    },
    {
      "cell_type": "markdown",
      "metadata": {
        "id": "qIM2Xwx1oL1h"
      },
      "source": [
        "## Obtendo a carga total instalada por setor da usina"
      ]
    },
    {
      "cell_type": "markdown",
      "metadata": {
        "id": "GRUN0GForrFK"
      },
      "source": [
        "### Caldeira 02"
      ]
    },
    {
      "cell_type": "code",
      "metadata": {
        "colab": {
          "base_uri": "https://localhost:8080/"
        },
        "id": "Yj0f95iSrK68",
        "outputId": "1adc6d46-2bef-4af6-ea35-66480a695627"
      },
      "source": [
        "kva_caldeira02 = caldeira02.kva.sum()\n",
        "kw_caldeira02 = caldeira02.kw.sum()\n",
        "fp_caldeira02 = kw_caldeira02/kva_caldeira02\n",
        "In_caldeira02 = kva_caldeira02/(13.8*np.sqrt(3))\n",
        "print('A corrente da caldeira II em 13.8kV é %.2f Amperes. Em 440V é de %.2f Amperes.' %(In_caldeira02, (In_caldeira02*13800/440)))\n",
        "print('A potência da caldeira II é de P=%.2f kW e S=%.2f kVA com um fator de potência de %.2f.' %(kw_caldeira02, kva_caldeira02, fp_caldeira02))"
      ],
      "execution_count": 10,
      "outputs": [
        {
          "output_type": "stream",
          "name": "stdout",
          "text": [
            "A corrente da caldeira II em 13.8kV é 31.18 Amperes. Em 440V é de 977.87 Amperes.\n",
            "A potência da caldeira II é de P=626.70 kW e S=745.24 kVA com um fator de potência de 0.84.\n"
          ]
        }
      ]
    },
    {
      "cell_type": "markdown",
      "metadata": {
        "id": "SxyNuwXwpeVM"
      },
      "source": [
        "### Fermentação"
      ]
    },
    {
      "cell_type": "code",
      "metadata": {
        "colab": {
          "base_uri": "https://localhost:8080/"
        },
        "id": "cr3cJvS1pJm4",
        "outputId": "3c5062d6-9321-4c5e-fe79-c59f5dc95c8d"
      },
      "source": [
        "kva_fermentacao = fermentacao.kva.sum()\n",
        "kw_fermentacao = fermentacao.kw.sum()\n",
        "fp_fermentacao = kw_fermentacao/kva_fermentacao\n",
        "In_fermentacao = kva_fermentacao/(13.8*np.sqrt(3))\n",
        "print('A corrente da fermentação em 13.8kV é %.2f Amperes. Em 380V é de %.2f Amperes.' %(In_fermentacao, (In_fermentacao*13800/380)))\n",
        "print('A potência da fermentação é de P=%.2f kW e S=%.2f kVA com um fator de potência de %.2f.' %(kw_fermentacao, kva_fermentacao, fp_fermentacao))"
      ],
      "execution_count": 11,
      "outputs": [
        {
          "output_type": "stream",
          "name": "stdout",
          "text": [
            "A corrente da fermentação em 13.8kV é 11.75 Amperes. Em 380V é de 426.74 Amperes.\n",
            "A potência da fermentação é de P=223.00 kW e S=280.87 kVA com um fator de potência de 0.79.\n"
          ]
        }
      ]
    },
    {
      "cell_type": "markdown",
      "metadata": {
        "id": "K4WBRnKcoWOd"
      },
      "source": [
        "### Idustria"
      ]
    },
    {
      "cell_type": "code",
      "metadata": {
        "colab": {
          "base_uri": "https://localhost:8080/"
        },
        "id": "aInIB_Lvn2q-",
        "outputId": "071fd65a-96f5-4b7f-8cb9-b1944ef9378b"
      },
      "source": [
        "kva_industria = industria.kva.sum()\n",
        "kw_industria = industria.kw.sum()\n",
        "fp_industria = kw_industria/kva_industria\n",
        "In_industria = kva_industria/(13.8*np.sqrt(3))\n",
        "print('A corrente da industria em 13.8kV é %.2f Amperes. Em 380V é de %.2f Amperes.' %(In_industria, (In_industria*13800/380)))\n",
        "print('A potência da industria é de P=%.2f kW e S=%.2f kVA com um fator de potência de %.2f.' %(kw_industria, kva_industria, fp_industria))"
      ],
      "execution_count": 12,
      "outputs": [
        {
          "output_type": "stream",
          "name": "stdout",
          "text": [
            "A corrente da industria em 13.8kV é 33.75 Amperes. Em 380V é de 1225.84 Amperes.\n",
            "A potência da industria é de P=633.50 kW e S=806.82 kVA com um fator de potência de 0.79.\n"
          ]
        }
      ]
    },
    {
      "cell_type": "markdown",
      "metadata": {
        "id": "KlFYEmPgq-nf"
      },
      "source": [
        "### Secador"
      ]
    },
    {
      "cell_type": "code",
      "metadata": {
        "colab": {
          "base_uri": "https://localhost:8080/"
        },
        "id": "mrFkPjVRqsnt",
        "outputId": "53321571-3fed-4384-ba11-8d79c2f601a5"
      },
      "source": [
        "kva_secador = secador.kva.sum()\n",
        "kw_secador = secador.kw.sum()\n",
        "fp_secador = kw_secador/kva_secador\n",
        "In_secador = kva_secador/(13.8*np.sqrt(3))\n",
        "print('A corrente da secador em 13.8kV é %.2f Amperes. Em 380V é de %.2f Amperes.' %(In_secador, (In_secador*13800/380)))\n",
        "print('A potência da secador é de P=%.2f kW e S=%.2f kVA com um fator de potência de %.2f.' %(kw_secador, kva_secador, fp_secador))"
      ],
      "execution_count": 13,
      "outputs": [
        {
          "output_type": "stream",
          "name": "stdout",
          "text": [
            "A corrente da secador em 13.8kV é 47.93 Amperes. Em 380V é de 1740.74 Amperes.\n",
            "A potência da secador é de P=925.30 kW e S=1145.72 kVA com um fator de potência de 0.81.\n"
          ]
        }
      ]
    },
    {
      "cell_type": "markdown",
      "metadata": {
        "id": "Fwz6hD1Dpu_O"
      },
      "source": [
        "### Destilaria + Evaporação\n"
      ]
    },
    {
      "cell_type": "code",
      "metadata": {
        "colab": {
          "base_uri": "https://localhost:8080/"
        },
        "id": "PIZZJe4ZptEG",
        "outputId": "71ea63f4-ea5b-4758-9033-774e7b11fa92"
      },
      "source": [
        "kva_destilaria = destilaria.kva.sum()\n",
        "kw_destilaria = destilaria.kw.sum()\n",
        "fp_destilaria = kw_destilaria/kva_destilaria\n",
        "In_destilaria = kva_destilaria/(13.8*np.sqrt(3))\n",
        "print('A corrente da destilaria em 13.8kV é %.2f Amperes. Em 380V é de %.2f Amperes.' %(In_destilaria, (In_destilaria*13800/380)))\n",
        "print('A potência da destilaria é de P=%.2f kW e S=%.2f kVA com um fator de potência de %.2f.' %(kw_destilaria, kva_destilaria, fp_destilaria))"
      ],
      "execution_count": 14,
      "outputs": [
        {
          "output_type": "stream",
          "name": "stdout",
          "text": [
            "A corrente da destilaria em 13.8kV é 15.77 Amperes. Em 380V é de 572.56 Amperes.\n",
            "A potência da destilaria é de P=307.40 kW e S=376.85 kVA com um fator de potência de 0.82.\n"
          ]
        }
      ]
    },
    {
      "cell_type": "code",
      "metadata": {
        "colab": {
          "base_uri": "https://localhost:8080/"
        },
        "id": "u_UN4RaIqJW4",
        "outputId": "e10c571d-14a5-4327-9bad-1b8b1baf7f4a"
      },
      "source": [
        "kva_evaporacao = evaporacao.kva.sum()\n",
        "kw_evaporacao = evaporacao.kw.sum()\n",
        "fp_evaporacao = kw_evaporacao/kva_evaporacao\n",
        "In_evaporacao = kva_evaporacao/(13.8*np.sqrt(3))\n",
        "print('A corrente da evaporação em 13.8kV é %.2f Amperes. Em 380V é de %.2f Amperes.' %(In_evaporacao, (In_evaporacao*13800/380)))\n",
        "print('A potência da evaporação é de P=%.2f kW e S=%.2f kVA com um fator de potência de %.2f.' %(kw_evaporacao, kva_evaporacao, fp_evaporacao))"
      ],
      "execution_count": 15,
      "outputs": [
        {
          "output_type": "stream",
          "name": "stdout",
          "text": [
            "A corrente da evaporação em 13.8kV é 37.17 Amperes. Em 380V é de 1349.75 Amperes.\n",
            "A potência da evaporação é de P=689.80 kW e S=888.38 kVA com um fator de potência de 0.78.\n"
          ]
        }
      ]
    },
    {
      "cell_type": "code",
      "metadata": {
        "colab": {
          "base_uri": "https://localhost:8080/"
        },
        "id": "FnYw1C2RqCvn",
        "outputId": "89b8984f-7891-4f04-adcf-da32abc21ccc"
      },
      "source": [
        "print('A potência total dos setores da evaporação + destilaria é de %.2f kW.' %(kw_destilaria+kw_evaporacao))\n",
        "print('A potência aparente dos setores da evaporação + destilaria é de %.2f kVA.' %(kva_destilaria+kva_evaporacao))\n",
        "print('O fator de potência da destilaria + evaporação %.2f.' %((kw_destilaria+kw_evaporacao)/(kva_destilaria+kva_evaporacao)))"
      ],
      "execution_count": 16,
      "outputs": [
        {
          "output_type": "stream",
          "name": "stdout",
          "text": [
            "A potência total dos setores da evaporação + destilaria é de 997.20 kW.\n",
            "A potência aparente dos setores da evaporação + destilaria é de 1265.23 kVA.\n",
            "O fator de potência da destilaria + evaporação 0.79.\n"
          ]
        }
      ]
    },
    {
      "cell_type": "markdown",
      "metadata": {
        "id": "QL4IQ-zTlfOG"
      },
      "source": [
        "## VERIFICANDO POTÊNCIA  TOTAL INSTALADA (PI)"
      ]
    },
    {
      "cell_type": "code",
      "metadata": {
        "colab": {
          "base_uri": "https://localhost:8080/"
        },
        "id": "pzMy4Hfuh9u3",
        "outputId": "efb36790-d036-4a33-ff86-7a17f3e41477"
      },
      "source": [
        "# Somando as potências e obtendo o fator de potencia da usina\n",
        "kva_total = cargasSetores.kva.sum()\n",
        "kw_total = cargasSetores.kw.sum()\n",
        "fp_total = kw_total/kva_total\n",
        "fp_total"
      ],
      "execution_count": 17,
      "outputs": [
        {
          "output_type": "execute_result",
          "data": {
            "text/plain": [
              "0.80"
            ]
          },
          "metadata": {},
          "execution_count": 17
        }
      ]
    },
    {
      "cell_type": "markdown",
      "metadata": {
        "id": "Id0vbi6HZovX"
      },
      "source": [
        "A potência total intalada é dada pela soma em kw de todas as cargas.\n",
        "PI = soma(kw)"
      ]
    },
    {
      "cell_type": "code",
      "metadata": {
        "id": "Pbt6e1uVaDUd",
        "colab": {
          "base_uri": "https://localhost:8080/"
        },
        "outputId": "45b61c0b-5346-471d-8db3-f0cfc6768617"
      },
      "source": [
        "print(\"A potência total instalação é de %.2f kW\" %(kw_total))\n",
        "print('A potência aparente total da usina é de %.2f kVA com um fator de potência de %.2f.' %(kva_total, fp_total))"
      ],
      "execution_count": 18,
      "outputs": [
        {
          "output_type": "stream",
          "name": "stdout",
          "text": [
            "A potência total instalação é de 3405.70 kW\n",
            "A potência aparente total da usina é de 4243.88 kVA com um fator de potência de 0.80.\n"
          ]
        }
      ]
    },
    {
      "cell_type": "markdown",
      "metadata": {
        "id": "Jwj_5bW8mVP-"
      },
      "source": [
        "### Corrente total em 13,8kV"
      ]
    },
    {
      "cell_type": "code",
      "metadata": {
        "colab": {
          "base_uri": "https://localhost:8080/"
        },
        "id": "fQuKH8V0ka1m",
        "outputId": "42e089c1-26a5-456a-dfd5-2b3412a974ce"
      },
      "source": [
        "In_total = kva_total/(13.8*np.sqrt(3))\n",
        "print('A corrente total em 13.8kV é %.2f Amperes.' %(In_total))"
      ],
      "execution_count": 19,
      "outputs": [
        {
          "output_type": "stream",
          "name": "stdout",
          "text": [
            "A corrente total em 13.8kV é 177.55 Amperes.\n"
          ]
        }
      ]
    },
    {
      "cell_type": "markdown",
      "metadata": {
        "id": "aZsUMPuois_v"
      },
      "source": [
        "# DIMENSIONAMENTO DO TRAFO DA SUB DE ENTRADA"
      ]
    },
    {
      "cell_type": "markdown",
      "metadata": {
        "id": "sGemoQtQi3yt"
      },
      "source": [
        "Para dimensionamento do tranformador da subestação, é necessário levar em consideração alguns parâmetros além da potência instalada."
      ]
    },
    {
      "cell_type": "markdown",
      "metadata": {
        "id": "NmmYmNTcpjeN"
      },
      "source": [
        "### Fator de demanda (FD)\n",
        "\n",
        "É muito raro em uma instalação elétrica utilizarmos todos os equipamentos instalados. Supondo que utilizamos 80% de uma carga instalada de 100KW. Nosso fator de demanda de 80% vai resultar em uma potência consumida de 80kW.\n",
        "\n",
        "### Fator de crescimento de carga (PAC)\n",
        "\n",
        "O fator de crescimento de carga deve ser considerado em todo projeto para liberar uma margem de aumento de carga. Vamos considerar 30% de aumento da carga instalada em 5 anos.\n",
        "\n",
        "### Fator de potência (FP)\n",
        "\n",
        "A legislação brasileira exige que o fator de potência não seja inferior a 0,92. \n",
        "\n",
        "### Calculo do trafo\n",
        "\n",
        "Considerando esses fatores a potência do trafo pode ser dada por:\n",
        "\n",
        "$ S_{Trafo} =  \\frac{PI×FD×PAC}{FP} (KVA)$"
      ]
    },
    {
      "cell_type": "code",
      "metadata": {
        "id": "aqIUAtpzisWE",
        "colab": {
          "base_uri": "https://localhost:8080/"
        },
        "outputId": "53b7db8e-0100-49bc-b5d0-d5728d450995"
      },
      "source": [
        "FD = 0.8 # fator de demanda\n",
        "FP = 0.92 # fator de potência \n",
        "PAC = 1.3 # crescimento de carga\n",
        "PI = kw_total\n",
        "\n",
        "S_trafo = FD*PAC*PI/FP\n",
        "\n",
        "print(\"A potência aparente total do \\n tranformador deve ser de %.2f KVA\" %(S_trafo))"
      ],
      "execution_count": 22,
      "outputs": [
        {
          "output_type": "stream",
          "name": "stdout",
          "text": [
            "A potência aparente total do \n",
            " tranformador deve ser de 3849.92 KVA\n"
          ]
        }
      ]
    }
  ]
}